{
 "cells": [
  {
   "cell_type": "code",
   "execution_count": null,
   "metadata": {
    "colab": {
     "base_uri": "https://localhost:8080/"
    },
    "executionInfo": {
     "elapsed": 25147,
     "status": "ok",
     "timestamp": 1633180891526,
     "user": {
      "displayName": "Soumya Dutta",
      "photoUrl": "https://lh3.googleusercontent.com/a-/AOh14GhR-bRGnDKmWRBTw9S1wXvenAuciNyyCBEFXxdI=s64",
      "userId": "02875066577958666602"
     },
     "user_tz": -330
    },
    "id": "7yTMHG9ucgrA",
    "outputId": "30f676c2-6fb9-4d3b-8f02-74b6280eac77"
   },
   "outputs": [],
   "source": [
    "from google.colab import drive\n",
    "drive.mount('/content/drive')"
   ]
  },
  {
   "cell_type": "code",
   "execution_count": null,
   "metadata": {
    "executionInfo": {
     "elapsed": 4135,
     "status": "ok",
     "timestamp": 1633180898259,
     "user": {
      "displayName": "Soumya Dutta",
      "photoUrl": "https://lh3.googleusercontent.com/a-/AOh14GhR-bRGnDKmWRBTw9S1wXvenAuciNyyCBEFXxdI=s64",
      "userId": "02875066577958666602"
     },
     "user_tz": -330
    },
    "id": "EPuRBFlndSnc"
   },
   "outputs": [],
   "source": [
    "import sys\n",
    "import os\n",
    "import torch\n",
    "import numpy as np\n",
    "from torch.utils.data.sampler import SubsetRandomSampler\n",
    "from torch.utils.data import DataLoader, Dataset\n",
    "from torch.optim import Adam\n",
    "import torch.nn as nn\n",
    "from torch.optim.lr_scheduler import LambdaLR\n",
    "from torch.nn import functional as F"
   ]
  },
  {
   "cell_type": "code",
   "execution_count": null,
   "metadata": {
    "executionInfo": {
     "elapsed": 6,
     "status": "ok",
     "timestamp": 1633180899269,
     "user": {
      "displayName": "Soumya Dutta",
      "photoUrl": "https://lh3.googleusercontent.com/a-/AOh14GhR-bRGnDKmWRBTw9S1wXvenAuciNyyCBEFXxdI=s64",
      "userId": "02875066577958666602"
     },
     "user_tz": -330
    },
    "id": "yWn4C4obdcQ5"
   },
   "outputs": [],
   "source": [
    "base_lr = 0.0001\n",
    "device = torch.device(\"cuda\" if torch.cuda.is_available() else \"cpu\")\n",
    "n_gpu = torch.cuda.device_count()"
   ]
  },
  {
   "cell_type": "code",
   "execution_count": null,
   "metadata": {
    "colab": {
     "base_uri": "https://localhost:8080/"
    },
    "executionInfo": {
     "elapsed": 860,
     "status": "ok",
     "timestamp": 1633183630976,
     "user": {
      "displayName": "Soumya Dutta",
      "photoUrl": "https://lh3.googleusercontent.com/a-/AOh14GhR-bRGnDKmWRBTw9S1wXvenAuciNyyCBEFXxdI=s64",
      "userId": "02875066577958666602"
     },
     "user_tz": -330
    },
    "id": "f3V3mIfwdfql",
    "outputId": "49465fd2-d1dd-483a-cc32-6267c79dae21"
   },
   "outputs": [],
   "source": [
    "batch_size = 32\n",
    "num_workers = 2\n",
    "shuffle_dataset = True\n",
    "random_seed = 451994\n",
    "torch.manual_seed(random_seed)"
   ]
  },
  {
   "cell_type": "code",
   "execution_count": null,
   "metadata": {
    "colab": {
     "base_uri": "https://localhost:8080/"
    },
    "executionInfo": {
     "elapsed": 40,
     "status": "ok",
     "timestamp": 1633183630977,
     "user": {
      "displayName": "Soumya Dutta",
      "photoUrl": "https://lh3.googleusercontent.com/a-/AOh14GhR-bRGnDKmWRBTw9S1wXvenAuciNyyCBEFXxdI=s64",
      "userId": "02875066577958666602"
     },
     "user_tz": -330
    },
    "id": "7di-YFPbdhtC",
    "outputId": "f9158578-bc31-4a8b-f4e5-4cc7d1f26558"
   },
   "outputs": [],
   "source": [
    "cd /content/drive/MyDrive/multimodal_sentiment_analysis"
   ]
  },
  {
   "cell_type": "code",
   "execution_count": null,
   "metadata": {
    "executionInfo": {
     "elapsed": 21,
     "status": "ok",
     "timestamp": 1633183630979,
     "user": {
      "displayName": "Soumya Dutta",
      "photoUrl": "https://lh3.googleusercontent.com/a-/AOh14GhR-bRGnDKmWRBTw9S1wXvenAuciNyyCBEFXxdI=s64",
      "userId": "02875066577958666602"
     },
     "user_tz": -330
    },
    "id": "knygh5ccdk2-"
   },
   "outputs": [],
   "source": [
    "class MyDataset(Dataset):\n",
    "    def __init__(self, imgs, aud, text, target, length):\n",
    "        self.imgs = imgs\n",
    "        self.aud = aud\n",
    "        self.text = text\n",
    "        self.target = target\n",
    "        self.length = length\n",
    "        \n",
    "    def __getitem__(self, index):\n",
    "        \n",
    "        return {'img': self.imgs[index], 'aud': self.aud[index],\n",
    "                'text': self.text[index], 'target': self.target[index],\n",
    "                'length':self.length[index]}\n",
    "    \n",
    "    def __len__(self):\n",
    "        return len(self.data)"
   ]
  },
  {
   "cell_type": "code",
   "execution_count": null,
   "metadata": {
    "executionInfo": {
     "elapsed": 20,
     "status": "ok",
     "timestamp": 1633183630979,
     "user": {
      "displayName": "Soumya Dutta",
      "photoUrl": "https://lh3.googleusercontent.com/a-/AOh14GhR-bRGnDKmWRBTw9S1wXvenAuciNyyCBEFXxdI=s64",
      "userId": "02875066577958666602"
     },
     "user_tz": -330
    },
    "id": "rj1feJpBdyEL"
   },
   "outputs": [],
   "source": [
    "train_data = dict()\n",
    "val_data = dict()\n",
    "for fold in range(1):\n",
    "    train_imgs = np.load('/content/drive/MyDrive/multimodal_sentiment_analysis/train' + str(fold) + '_image.npy')\n",
    "    train_aud = np.load('/content/drive/MyDrive/multimodal_sentiment_analysis/train' + str(fold) + '_audio.npy')\n",
    "    train_text = np.load('/content/drive/MyDrive/multimodal_sentiment_analysis/train' + str(fold) + '_text.npy')\n",
    "    train_labels = np.load('/content/drive/MyDrive/multimodal_sentiment_analysis/train' + str(fold) + '_labels.npy')\n",
    "    train_lengths = np.load('/content/drive/MyDrive/multimodal_sentiment_analysis/length_train' +str(fold) + '.npy')\n",
    "    val_imgs = np.load('/content/drive/MyDrive/multimodal_sentiment_analysis/val' + str(fold) + '_image.npy')\n",
    "    val_aud = np.load('/content/drive/MyDrive/multimodal_sentiment_analysis/val' + str(fold) + '_audio.npy')\n",
    "    val_text = np.load('/content/drive/MyDrive/multimodal_sentiment_analysis/val' + str(fold) + '_text.npy')\n",
    "    val_labels = np.load('/content/drive/MyDrive/multimodal_sentiment_analysis/val' + str(fold) + '_labels.npy')\n",
    "    val_lengths = np.load('/content/drive/MyDrive/multimodal_sentiment_analysis/length_val' +str(fold) + '.npy')\n",
    "    train_size, val_size = train_imgs.shape[0], val_imgs.shape[0]\n",
    "    train_indices, val_indices = list(range(train_size)), list(range(val_size))\n",
    "    train_sampler = SubsetRandomSampler(train_indices)\n",
    "    valid_sampler = SubsetRandomSampler(val_indices)\n",
    "    train_dataset = MyDataset(train_imgs, train_aud, train_text, train_labels,\n",
    "                              train_lengths)\n",
    "    val_dataset = MyDataset(val_imgs, val_aud, val_text, val_labels,\n",
    "                            val_lengths)\n",
    "    train_loader = DataLoader(train_dataset,\n",
    "                          sampler=train_sampler,\n",
    "                          batch_size=batch_size,\n",
    "                          pin_memory=True,\n",
    "                          shuffle=False,\n",
    "                          drop_last=False,\n",
    "                            )\n",
    "    val_loader = DataLoader(val_dataset,\n",
    "                            sampler=valid_sampler,\n",
    "                            batch_size=batch_size,\n",
    "                            num_workers=num_workers,\n",
    "                            pin_memory=True,\n",
    "                            shuffle=False,\n",
    "                            drop_last=False,\n",
    "                            )\n",
    "    train_data[fold] = train_loader\n",
    "    val_data[fold] = val_loader"
   ]
  },
  {
   "cell_type": "code",
   "execution_count": null,
   "metadata": {
    "executionInfo": {
     "elapsed": 20,
     "status": "ok",
     "timestamp": 1633183630980,
     "user": {
      "displayName": "Soumya Dutta",
      "photoUrl": "https://lh3.googleusercontent.com/a-/AOh14GhR-bRGnDKmWRBTw9S1wXvenAuciNyyCBEFXxdI=s64",
      "userId": "02875066577958666602"
     },
     "user_tz": -330
    },
    "id": "Majw1WEEd35N"
   },
   "outputs": [],
   "source": [
    "class Model(nn.Module):\n",
    "    def __init__(self, input_dim, hidden_dim, output_dim, dropout, layers, bidirectional_flag):\n",
    "        super().__init__()\n",
    "        self.rnn = nn.GRU(input_dim, hidden_dim, num_layers=layers, bidirectional=bidirectional_flag, batch_first=True)\n",
    "        if bidirectional_flag == True:\n",
    "          self.fc = nn.Linear(2*hidden_dim, output_dim)\n",
    "        else:\n",
    "          self.fc = nn.Linear(hidden_dim, 200)\n",
    "        self.dropout = nn.Dropout(dropout)\n",
    "        self.num_layers = layers\n",
    "        self.hidden_dim = hidden_dim\n",
    "        self.atten_weight_b = nn.Linear(hidden_dim, hidden_dim)\n",
    "        self.atten_weight_f = nn.Linear(hidden_dim, hidden_dim)\n",
    "        self.bidirectional_used = bidirectional_flag\n",
    "\n",
    "    def attention(self, output):\n",
    "        out_f, out_b = output[:, :, :self.hidden_dim], output[:, :, self.hidden_dim:]\n",
    "        out_f, out_b = self.atten_weight_f(out_f), self.atten_weight_b(out_b)\n",
    "        fwd_atten = torch.bmm(out_f, out_f.permute(0, 2, 1))\n",
    "        bwd_atten = torch.bmm(out_b, out_b.permute(0, 2, 1))\n",
    "        fwd_atten = F.softmax(fwd_atten, 1)\n",
    "        bwd_atten = F.softmax(bwd_atten, 1)\n",
    "        out_atten_f, out_atten_b = torch.bmm(fwd_atten, out_f), torch.bmm(bwd_atten, out_b)\n",
    "        out_atten = torch.cat((out_atten_f, out_atten_b), dim = -1)\n",
    "        return out_atten\n",
    "        \n",
    "    def forward(self, x):\n",
    "        output, _ = self.rnn(x)\n",
    "        output = self.attention(output)\n",
    "        out = self.fc(output)\n",
    "        return output, out"
   ]
  },
  {
   "cell_type": "code",
   "execution_count": null,
   "metadata": {
    "executionInfo": {
     "elapsed": 16,
     "status": "ok",
     "timestamp": 1633183630982,
     "user": {
      "displayName": "Soumya Dutta",
      "photoUrl": "https://lh3.googleusercontent.com/a-/AOh14GhR-bRGnDKmWRBTw9S1wXvenAuciNyyCBEFXxdI=s64",
      "userId": "02875066577958666602"
     },
     "user_tz": -330
    },
    "id": "ZqFAUXfqfgGb"
   },
   "outputs": [],
   "source": [
    "def compute_accuracy(output, train_dic):\n",
    "    batch_correct = 0.0\n",
    "    batch_total = 0.0\n",
    "    t = 0\n",
    "    for i in range(output.shape[0]):\n",
    "        req_len = torch.sum(train_dic['length'][i]).int()\n",
    "        out_required = output[i][:req_len, :]\n",
    "        target_required = train_dic['target'][i][:req_len].long()\n",
    "        hap = (target_required == 3).float()\n",
    "        t += hap.sum()\n",
    "        pred = torch.argmax(out_required, dim = 1)\n",
    "        correct_pred = (pred == target_required).float()\n",
    "        tot_correct = correct_pred.sum()\n",
    "        batch_correct += tot_correct\n",
    "        batch_total += req_len  \n",
    "    return batch_correct/batch_total"
   ]
  },
  {
   "cell_type": "code",
   "execution_count": null,
   "metadata": {
    "executionInfo": {
     "elapsed": 15,
     "status": "ok",
     "timestamp": 1633183630982,
     "user": {
      "displayName": "Soumya Dutta",
      "photoUrl": "https://lh3.googleusercontent.com/a-/AOh14GhR-bRGnDKmWRBTw9S1wXvenAuciNyyCBEFXxdI=s64",
      "userId": "02875066577958666602"
     },
     "user_tz": -330
    },
    "id": "4j8eqBe9fjil"
   },
   "outputs": [],
   "source": [
    "def compute_loss(output, train_dic):\n",
    "    batch_loss = 0.0\n",
    "    for i in range(output.shape[0]):\n",
    "        req_len = torch.sum(train_dic['length'][i]).int()\n",
    "        loss = nn.CrossEntropyLoss(ignore_index = 4)(output[i][:req_len, :],\n",
    "                                                     train_dic['target'][i][:req_len].long().to(device))\n",
    "        batch_loss += loss\n",
    "    return batch_loss/output.shape[0]"
   ]
  },
  {
   "cell_type": "code",
   "execution_count": null,
   "metadata": {
    "colab": {
     "base_uri": "https://localhost:8080/"
    },
    "executionInfo": {
     "elapsed": 7680,
     "status": "ok",
     "timestamp": 1633183638647,
     "user": {
      "displayName": "Soumya Dutta",
      "photoUrl": "https://lh3.googleusercontent.com/a-/AOh14GhR-bRGnDKmWRBTw9S1wXvenAuciNyyCBEFXxdI=s64",
      "userId": "02875066577958666602"
     },
     "user_tz": -330
    },
    "id": "HP_LWaScflmw",
    "outputId": "0dde3dbf-0424-482c-e7bf-5bcec23c10b5"
   },
   "outputs": [],
   "source": [
    "epochs = 20\n",
    "# in your training loop:\n",
    "for fold in range(1):\n",
    "    final_val_loss = 999999\n",
    "    train_loader = train_data[fold]\n",
    "    val_loader = val_data[fold]\n",
    "    text_model = Model(200, 50, 4, 0.2, 2, True).double()\n",
    "    text_model.to(device)\n",
    "    optimizer = Adam(text_model.parameters(), lr=0.001)\n",
    "    for e in range(epochs):\n",
    "        tot_loss, tot_acc = 0.0, 0.0\n",
    "        text_model.train()\n",
    "        for ind, train_dic in enumerate(train_loader):\n",
    "            text_model.zero_grad()\n",
    "            inp = train_dic['text'].permute(0, 2, 1).double()\n",
    "            _, out = text_model.forward(inp.to(device))\n",
    "            train_dic['target'][train_dic['target'] == -1] = 4\n",
    "            acc = compute_accuracy(out.cpu(), train_dic)\n",
    "            loss = compute_loss(out.to(device), train_dic)\n",
    "            tot_loss += loss.item()\n",
    "            tot_acc += acc.item()\n",
    "            loss.backward()\n",
    "            optimizer.step()\n",
    "        text_model.eval()\n",
    "        val_loss, val_acc = 0.0, 0.0\n",
    "        for ind, val_dic in enumerate(val_loader):\n",
    "            inp = val_dic['text'].permute(0, 2, 1).double()\n",
    "            _, val_out = text_model.forward(inp.to(device))\n",
    "            val_dic['target'][val_dic['target'] == -1] = 4\n",
    "            val_acc += compute_accuracy(val_out.cpu(), val_dic).item()\n",
    "            val_loss += compute_loss(val_out, val_dic).item()\n",
    "        if val_loss < final_val_loss:\n",
    "            torch.save({'model_state_dict': text_model.state_dict(),\n",
    "                        'optimizer_state_dict': optimizer.state_dict(),},\n",
    "                        'best_model_text' + str(fold) + '.tar')\n",
    "            final_val_loss = val_loss\n",
    "\n",
    "        print(\"Epoch: \", str(e+1),\n",
    "              \"Training Loss: \", str(tot_loss/len(train_loader)),\n",
    "              \"|| Training Accuracy: \", str(tot_acc/len(train_loader)),\n",
    "              \"|| Validation Loss: \", str(val_loss/len(val_loader)),\n",
    "              \"|| Validation Accuracy: \", str(val_acc/len(val_loader)))"
   ]
  },
  {
   "cell_type": "code",
   "execution_count": null,
   "metadata": {
    "executionInfo": {
     "elapsed": 49,
     "status": "ok",
     "timestamp": 1633183639517,
     "user": {
      "displayName": "Soumya Dutta",
      "photoUrl": "https://lh3.googleusercontent.com/a-/AOh14GhR-bRGnDKmWRBTw9S1wXvenAuciNyyCBEFXxdI=s64",
      "userId": "02875066577958666602"
     },
     "user_tz": -330
    },
    "id": "ALWVJOatFGM3"
   },
   "outputs": [],
   "source": [
    "test_imgs = np.load('/content/drive/MyDrive/multimodal_sentiment_analysis/test_image.npy')\n",
    "test_aud = np.load('/content/drive/MyDrive/multimodal_sentiment_analysis/test_audio.npy')\n",
    "test_text = np.load('/content/drive/MyDrive/multimodal_sentiment_analysis/test_text.npy')\n",
    "test_labels = np.load('/content/drive/MyDrive/multimodal_sentiment_analysis/test_labels.npy')\n",
    "test_lengths = np.load('/content/drive/MyDrive/multimodal_sentiment_analysis/length_test.npy')"
   ]
  },
  {
   "cell_type": "code",
   "execution_count": null,
   "metadata": {
    "executionInfo": {
     "elapsed": 48,
     "status": "ok",
     "timestamp": 1633183639517,
     "user": {
      "displayName": "Soumya Dutta",
      "photoUrl": "https://lh3.googleusercontent.com/a-/AOh14GhR-bRGnDKmWRBTw9S1wXvenAuciNyyCBEFXxdI=s64",
      "userId": "02875066577958666602"
     },
     "user_tz": -330
    },
    "id": "OfgHjFesVGZk"
   },
   "outputs": [],
   "source": [
    "test_dataset = MyDataset(test_imgs, test_aud, test_text, test_labels,\n",
    "                          test_lengths)"
   ]
  },
  {
   "cell_type": "code",
   "execution_count": null,
   "metadata": {
    "executionInfo": {
     "elapsed": 48,
     "status": "ok",
     "timestamp": 1633183639518,
     "user": {
      "displayName": "Soumya Dutta",
      "photoUrl": "https://lh3.googleusercontent.com/a-/AOh14GhR-bRGnDKmWRBTw9S1wXvenAuciNyyCBEFXxdI=s64",
      "userId": "02875066577958666602"
     },
     "user_tz": -330
    },
    "id": "dRIQ5-1TVJOc"
   },
   "outputs": [],
   "source": [
    "test_size = test_imgs.shape[0]\n",
    "indices = list(range(test_size))\n",
    "test_sampler = SubsetRandomSampler(indices)"
   ]
  },
  {
   "cell_type": "code",
   "execution_count": null,
   "metadata": {
    "executionInfo": {
     "elapsed": 48,
     "status": "ok",
     "timestamp": 1633183639518,
     "user": {
      "displayName": "Soumya Dutta",
      "photoUrl": "https://lh3.googleusercontent.com/a-/AOh14GhR-bRGnDKmWRBTw9S1wXvenAuciNyyCBEFXxdI=s64",
      "userId": "02875066577958666602"
     },
     "user_tz": -330
    },
    "id": "O_xsoT49VLI1"
   },
   "outputs": [],
   "source": [
    "test_loader = DataLoader(test_dataset,\n",
    "                         sampler = test_sampler,\n",
    "                         batch_size=batch_size,\n",
    "                         num_workers=num_workers,\n",
    "                         pin_memory=True,\n",
    "                         shuffle=False,\n",
    "                         drop_last=False,\n",
    "                         )"
   ]
  },
  {
   "cell_type": "code",
   "execution_count": null,
   "metadata": {
    "colab": {
     "base_uri": "https://localhost:8080/"
    },
    "executionInfo": {
     "elapsed": 34,
     "status": "ok",
     "timestamp": 1633183639519,
     "user": {
      "displayName": "Soumya Dutta",
      "photoUrl": "https://lh3.googleusercontent.com/a-/AOh14GhR-bRGnDKmWRBTw9S1wXvenAuciNyyCBEFXxdI=s64",
      "userId": "02875066577958666602"
     },
     "user_tz": -330
    },
    "id": "NkLaEh71VOEe",
    "outputId": "502b6253-4c97-46ef-d040-f0bf7c826958"
   },
   "outputs": [],
   "source": [
    "for fold in range(1):\n",
    "\n",
    "    text_model = Model(200, 50, 4, 0.2, 2, True).double()\n",
    "    text_model.to(device)\n",
    "    text_model.eval()\n",
    "    \n",
    "\n",
    "    checkpoint_text = torch.load('best_model_text'+str(fold)+'.tar')\n",
    "    text_model.load_state_dict(checkpoint_text['model_state_dict'])\n",
    "\n",
    "    for ind, test_dic in enumerate(test_loader):\n",
    "        inp = test_dic['text'].permute(0, 2, 1).double()\n",
    "        out_text, out = text_model.forward(inp.to(device))\n",
    "        test_dic['target'][test_dic['target'] == -1] = 4\n",
    "        acc = compute_accuracy(out.cpu(), test_dic).item()\n",
    "    print(\"Accuracy: \", acc)\n"
   ]
  }
 ],
 "metadata": {
  "accelerator": "GPU",
  "colab": {
   "authorship_tag": "ABX9TyO9+skYjwX7mh9QT327KWnG",
   "collapsed_sections": [],
   "name": "Untitled1.ipynb",
   "provenance": []
  },
  "kernelspec": {
   "display_name": "Python 3",
   "language": "python",
   "name": "python3"
  },
  "language_info": {
   "codemirror_mode": {
    "name": "ipython",
    "version": 3
   },
   "file_extension": ".py",
   "mimetype": "text/x-python",
   "name": "python",
   "nbconvert_exporter": "python",
   "pygments_lexer": "ipython3",
   "version": "3.8.5"
  }
 },
 "nbformat": 4,
 "nbformat_minor": 1
}
